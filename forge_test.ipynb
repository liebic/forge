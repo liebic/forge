{
 "cells": [
  {
   "cell_type": "code",
   "execution_count": 12,
   "id": "63623dbf-37be-4d88-ba97-dadf5cba6a0d",
   "metadata": {},
   "outputs": [
    {
     "name": "stdout",
     "output_type": "stream",
     "text": [
      "Available characters are: \n",
      "Mario\n",
      "Luigi\n",
      "Princess Peach\n",
      "Bowser\n"
     ]
    },
    {
     "name": "stdin",
     "output_type": "stream",
     "text": [
      "Player1, choose a character:  mario\n"
     ]
    },
    {
     "name": "stdout",
     "output_type": "stream",
     "text": [
      "Player1 has chosen Mario!\n",
      "Available vehicles are:  Bike, Sprinter, Wild Wiggler, Kart, Mach Bike, Biddybuggy, Flame Runner, Spear\n"
     ]
    },
    {
     "name": "stdin",
     "output_type": "stream",
     "text": [
      "Player1, choose a vehicle:  bike\n"
     ]
    },
    {
     "name": "stdout",
     "output_type": "stream",
     "text": [
      "Player1 has chosen Bike!\n",
      "Available characters are: \n",
      "Luigi\n",
      "Princess Peach\n",
      "Bowser\n"
     ]
    },
    {
     "name": "stdin",
     "output_type": "stream",
     "text": [
      "Player2, choose a character:  luigi\n"
     ]
    },
    {
     "name": "stdout",
     "output_type": "stream",
     "text": [
      "Player2 has chosen Luigi!\n",
      "Available vehicles are:  Sprinter, Wild Wiggler, Kart, Mach Bike, Biddybuggy, Flame Runner, Spear\n"
     ]
    },
    {
     "name": "stdin",
     "output_type": "stream",
     "text": [
      "Player2, choose a vehicle:  mach bike\n"
     ]
    },
    {
     "name": "stdout",
     "output_type": "stream",
     "text": [
      "Player2 has chosen Mach bike!\n",
      "Available characters are: \n",
      "Princess Peach\n",
      "Bowser\n"
     ]
    },
    {
     "name": "stdin",
     "output_type": "stream",
     "text": [
      "Player3, choose a character:  bowser\n"
     ]
    },
    {
     "name": "stdout",
     "output_type": "stream",
     "text": [
      "Player3 has chosen Bowser!\n",
      "Available vehicles are:  Sprinter, Wild Wiggler, Kart, Biddybuggy, Flame Runner, Spear\n"
     ]
    },
    {
     "name": "stdin",
     "output_type": "stream",
     "text": [
      "Player3, choose a vehicle:  spear\n"
     ]
    },
    {
     "name": "stdout",
     "output_type": "stream",
     "text": [
      "Player3 has chosen Spear!\n",
      "Available characters are: \n",
      "Princess Peach\n"
     ]
    },
    {
     "name": "stdin",
     "output_type": "stream",
     "text": [
      "Player4, choose a character:  princess peach\n"
     ]
    },
    {
     "name": "stdout",
     "output_type": "stream",
     "text": [
      "Player4 has chosen Princess peach!\n",
      "Available vehicles are:  Sprinter, Wild Wiggler, Kart, Biddybuggy, Flame Runner\n"
     ]
    },
    {
     "name": "stdin",
     "output_type": "stream",
     "text": [
      "Player4, choose a vehicle:  sprinter\n"
     ]
    },
    {
     "name": "stdout",
     "output_type": "stream",
     "text": [
      "Player4 has chosen Sprinter!\n",
      "Player1 in 1 place received: Banana Coin Triple-Banana Green-Shell Triple-Green-Shell Red-Shell Triple-Red-Shell Blue-Shell Mushroom Triple-Mushroom Star Golden-Mushroom Lightning-Bolt Bullet-Bill\n",
      "Player2 in 2 place received: Banana Coin Triple-Banana Green-Shell Triple-Green-Shell Red-Shell Triple-Red-Shell Blue-Shell Mushroom Triple-Mushroom Star Golden-Mushroom Lightning-Bolt Bullet-Bill\n",
      "Player3 in 3 place received: Banana Coin Triple-Banana Green-Shell Triple-Green-Shell Red-Shell Triple-Red-Shell Blue-Shell Mushroom Triple-Mushroom Star Golden-Mushroom Lightning-Bolt Bullet-Bill\n",
      "Player4 in 4 place received: Banana Coin Triple-Banana Green-Shell Triple-Green-Shell Red-Shell Triple-Red-Shell Blue-Shell Mushroom Triple-Mushroom Star Golden-Mushroom Lightning-Bolt Bullet-Bill\n",
      "\n",
      "Current Player Positions:\n",
      "Player1 in 1 place received: Banana Coin Triple-Banana Green-Shell Triple-Green-Shell Red-Shell Triple-Red-Shell Blue-Shell Mushroom Triple-Mushroom Star Golden-Mushroom Lightning-Bolt Bullet-Bill\n",
      "Player1 (Mario): Position 1\n",
      "Player2 in 2 place received: Banana Coin Triple-Banana Green-Shell Triple-Green-Shell Red-Shell Triple-Red-Shell Blue-Shell Mushroom Triple-Mushroom Star Golden-Mushroom Lightning-Bolt Bullet-Bill\n",
      "Player2 (Luigi): Position 2\n",
      "Player3 in 3 place received: Banana Coin Triple-Banana Green-Shell Triple-Green-Shell Red-Shell Triple-Red-Shell Blue-Shell Mushroom Triple-Mushroom Star Golden-Mushroom Lightning-Bolt Bullet-Bill\n",
      "Player3 (Bowser): Position 3\n",
      "Player4 in 4 place received: Banana Coin Triple-Banana Green-Shell Triple-Green-Shell Red-Shell Triple-Red-Shell Blue-Shell Mushroom Triple-Mushroom Star Golden-Mushroom Lightning-Bolt Bullet-Bill\n",
      "Player4 (Princess peach): Position 4\n",
      "\n",
      "Winner: Player4 (Princess peach)!\n"
     ]
    }
   ],
   "source": [
    "import random\n",
    "import re\n",
    "\n",
    "class Player:\n",
    "    def __init__(self, name):\n",
    "        self.name = name\n",
    "        self.character = None\n",
    "        self.position = 0\n",
    "\n",
    "    def adjust_position(self, finishing_order):\n",
    "        # Update the position based on the player's finishing order\n",
    "        self.position = finishing_order + 1\n",
    "\n",
    "    def player_position(self, finishing_order, is_hit_by_special_item, is_using_special_item):\n",
    "        if is_hit_by_special_item or is_using_special_item:\n",
    "            self.adjust_position(finishing_order)\n",
    "\n",
    "    def __str__(self):\n",
    "        return f\"{self.name} ({self.character}): Position {self.position}\"\n",
    "\n",
    "class MarioKart:\n",
    "    def __init__(self):\n",
    "        self.players = []\n",
    "        self.available_characters = [\"Mario\", \"Luigi\", \"Princess Peach\", \"Bowser\"]\n",
    "        self.available_vehicles= [\"Bike\",\"Sprinter\",\"Wild Wiggler\",\"Kart\",\"Mach Bike\",\"Biddybuggy\",\"Flame Runner\",\"Spear\"]\n",
    "\n",
    "    def set_players(self, players_names):\n",
    "        if not isinstance(players_names, list):\n",
    "            raise TypeError(\"The players_names parameter must be a list! Try again.\")\n",
    "        if len(players_names) > 4:\n",
    "            raise ValueError(\"Cannot have more than four players. Try playing again next round.\")\n",
    "        self.players = [Player(name) for name in players_names]\n",
    "\n",
    "    def choosing_character(self, player):\n",
    "        print(\"Available characters are: \")\n",
    "        for char in self.available_characters:\n",
    "            print(char)\n",
    "\n",
    "        while True:\n",
    "            character = input(f\"{player.name}, choose a character: \").capitalize()\n",
    "\n",
    "            if any(char.lower() == chosen_char.lower() for chosen_char in self.available_characters):\n",
    "                self.available_characters = [char for char in self.available_characters if char.lower() != character.lower()]\n",
    "                print(f\"{playburnouter.name} has chosen {character}!\")\n",
    "                player.character = character\n",
    "                break\n",
    "            else:\n",
    "                print(f\"Sorry, {character} has already been chosen for this round. Please choose another.\")\n",
    "\n",
    "    def choosing_vehicle(self, player):\n",
    "        print(\"Available vehicles are: \", \", \".join(self.available_vehicles))\n",
    "        while True:\n",
    "            chosen_vehicle = input(f\"{player.name}, choose a vehicle: \").capitalize()\n",
    "        \n",
    "            if any(vehicle.lower() == chosen_vehicle.lower() for vehicle in self.available_vehicles):\n",
    "                self.available_vehicles = [vehicle for vehicle in self.available_vehicles if vehicle.lower() != chosen_vehicle.lower()]\n",
    "                print(f\"{player.name} has chosen {chosen_vehicle}!\")\n",
    "                player.vehicle = chosen_vehicle\n",
    "                break\n",
    "            else:\n",
    "                print(f\"Sorry, {chosen_vehicle} has already been chosen for this round. Please choose another.\")\n",
    "\n",
    "    def mystery_box(self, player, finishing_order):\n",
    "        with open(\"items.txt\", 'r') as file:\n",
    "            items = [item.strip() for item in file if re.match(r'[A-Za-z]+(-?)[A-Za-z]+', item)]\n",
    "            max_items = min((finishing_order + 1) * 3, len(items))\n",
    "            player_item = random.choice(items[:max_items])\n",
    "            print(f'{player.name} in {finishing_order + 1} place received: {player_item}')\n",
    "            player.adjust_position(finishing_order)\n",
    "\n",
    "    def player_positions(self):\n",
    "        print(\"\\nCurrent Player Positions:\")\n",
    "        finishing_order = 0\n",
    "        for player in self.players:\n",
    "            with open(\"items.txt\", 'r') as file:\n",
    "                items = [item.strip() for item in file if re.match(r'[A-Za-z]+(-?)[A-Za-z]+', item)]\n",
    "                max_items = min((finishing_order + 1) * 3, len(items))\n",
    "                player_item = random.choice(items[:max_items])\n",
    "                print(f'{player.name} in {finishing_order + 1} place received: {player_item}')\n",
    "                player.adjust_position(finishing_order)\n",
    "\n",
    "            player.player_position(finishing_order, random.choice([True, False]), random.choice([True, False]))\n",
    "            print(player)\n",
    "            finishing_order += 1\n",
    "\n",
    "        self.players.sort(key=lambda player: player.position, reverse=True)\n",
    "\n",
    "        print(f\"\\nWinner: {self.players[0].name} ({self.players[0].character})!\")\n",
    "\n",
    "    \n",
    "if __name__ == \"__main__\":\n",
    "    mario_kart_game = MarioKart()\n",
    "    mario_kart_game.set_players([\"Player1\", \"Player2\", \"Player3\", \"Player4\"])\n",
    "\n",
    "    for player in mario_kart_game.players:\n",
    "        mario_kart_game.choosing_character(player)\n",
    "        mario_kart_game.choosing_vehicle(player)\n",
    "\n",
    "    finishing_order = 0\n",
    "    for player in mario_kart_game.players:\n",
    "        mario_kart_game.mystery_box(player, finishing_order)\n",
    "        finishing_order += 1\n",
    "\n",
    "    mario_kart_game.player_positions()\n"
   ]
  },
  {
   "cell_type": "code",
   "execution_count": null,
   "id": "b2fc68e7-c12e-4adc-96d5-d24c0c605b10",
   "metadata": {},
   "outputs": [],
   "source": []
  }
 ],
 "metadata": {
  "kernelspec": {
   "display_name": "Python 3 (ipykernel)",
   "language": "python",
   "name": "python3"
  },
  "language_info": {
   "codemirror_mode": {
    "name": "ipython",
    "version": 3
   },
   "file_extension": ".py",
   "mimetype": "text/x-python",
   "name": "python",
   "nbconvert_exporter": "python",
   "pygments_lexer": "ipython3",
   "version": "3.11.5"
  }
 },
 "nbformat": 4,
 "nbformat_minor": 5
}
